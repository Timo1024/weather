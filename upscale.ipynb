{
 "cells": [
  {
   "cell_type": "markdown",
   "metadata": {},
   "source": [
    "# load image"
   ]
  },
  {
   "cell_type": "code",
   "execution_count": 8,
   "metadata": {},
   "outputs": [],
   "source": [
    "def loadImage(path):\n",
    "    return Image.open(path)"
   ]
  },
  {
   "cell_type": "markdown",
   "metadata": {},
   "source": [
    "# resize image"
   ]
  },
  {
   "cell_type": "code",
   "execution_count": 9,
   "metadata": {},
   "outputs": [],
   "source": [
    "def rezise(image, factor):\n",
    "\n",
    "    # Calculate the new size\n",
    "    new_size = (image.width * factor, image.height * factor)\n",
    "\n",
    "    # Upscale the image\n",
    "    upscaled_image = image.resize(new_size, Image.BICUBIC)  # You can also use other resampling filters like Image.NEAREST, Image.BILINEAR, etc.\n",
    "\n",
    "    return upscaled_image"
   ]
  },
  {
   "cell_type": "markdown",
   "metadata": {},
   "source": [
    "# run the code"
   ]
  },
  {
   "cell_type": "code",
   "execution_count": 11,
   "metadata": {},
   "outputs": [],
   "source": [
    "import os\n",
    "from PIL import Image\n",
    "\n",
    "image = loadImage(\"resources/WN_plots/000.png\")\n",
    "upscaled_image = rezise(image, 4)\n",
    "os.makedirs(\"resources/WN_plots_upscaled\", exist_ok=True)\n",
    "upscaled_image.save(\"resources/WN_plots_upscaled/upscaled_image.png\")"
   ]
  }
 ],
 "metadata": {
  "kernelspec": {
   "display_name": "Python 3",
   "language": "python",
   "name": "python3"
  },
  "language_info": {
   "codemirror_mode": {
    "name": "ipython",
    "version": 3
   },
   "file_extension": ".py",
   "mimetype": "text/x-python",
   "name": "python",
   "nbconvert_exporter": "python",
   "pygments_lexer": "ipython3",
   "version": "3.12.2"
  }
 },
 "nbformat": 4,
 "nbformat_minor": 2
}
